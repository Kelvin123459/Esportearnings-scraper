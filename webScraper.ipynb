{
 "cells": [
  {
   "cell_type": "markdown",
   "metadata": {},
   "source": [
    "# Esportsearning.com website scraper"
   ]
  },
  {
   "cell_type": "markdown",
   "metadata": {},
   "source": [
    "## Imports"
   ]
  },
  {
   "cell_type": "code",
   "execution_count": null,
   "metadata": {},
   "outputs": [],
   "source": [
    "from selenium import webdriver\n",
    "from selenium.webdriver.common.by import By\n",
    "import requests\n",
    "import pandas as pd\n",
    "from bs4 import BeautifulSoup\n",
    "import re"
   ]
  },
  {
   "cell_type": "markdown",
   "metadata": {},
   "source": [
    "## Scrape Games Data"
   ]
  },
  {
   "cell_type": "code",
   "execution_count": null,
   "metadata": {},
   "outputs": [],
   "source": [
    "driver = webdriver.Firefox()\n",
    "df = pd.DataFrame(columns=['Game','Prize', 'NumPlayer', 'NumTournaments', 'Year'])\n",
    "for year in range(20):\n",
    "    urlYear = str(2002+year)\n",
    "    url = \"https://www.esportsearnings.com/history/\" + urlYear + \"/games\"\n",
    "    \n",
    "    driver.get(url)\n",
    "\n",
    "    games = driver.find_elements(By.CLASS_NAME, \"detail_list_player\")\n",
    "    data = driver.find_elements(By.CLASS_NAME, \"detail_list_prize\")\n",
    "    gamesList = []\n",
    "    prizesList = []\n",
    "    numPlayersList = []\n",
    "    tournamentsList = []\n",
    "    for game in range(len(games)):\n",
    "        gamesList.append(games[game].text)\n",
    "    i = 7\n",
    "    while i<(len(data)-20):\n",
    "        prizesList.append(data[i].text)\n",
    "        numPlayersList.append(data[i+1].text)\n",
    "        tournamentsList.append(data[i+2].text)\n",
    "        i+=3\n",
    "    data_tuples = list(zip(gamesList[0:],prizesList[0:], numPlayersList[0:], tournamentsList[0:])) # list of each players name and salary paired together\n",
    "    temp_df = pd.DataFrame(data_tuples, columns=['Game','Prize', 'NumPlayer', 'NumTournaments']) # creates dataframe of each tuple in list\n",
    "    temp_df['Year'] = urlYear # adds season beginning year to each dataframe\n",
    "    df = df.append(temp_df) # appends to master dataframe\n",
    "        # display(df)\n",
    "driver.close()\n",
    "display(df)\n",
    "df.to_csv(\"gamesData.csv\")\n"
   ]
  },
  {
   "cell_type": "markdown",
   "metadata": {},
   "source": [
    "## Scrape Players Data"
   ]
  },
  {
   "cell_type": "code",
   "execution_count": null,
   "metadata": {},
   "outputs": [],
   "source": [
    "driver = webdriver.Firefox()\n",
    "df = pd.DataFrame(columns=['Username','Name', 'Country', 'Prize', 'Year'])\n",
    "for year in range(20):\n",
    "    urlYear = str(2002+year)\n",
    "    url = \"https://www.esportsearnings.com/history/\" + urlYear + \"/top_players\"\n",
    "    \n",
    "    driver.get(url)\n",
    "    response = requests.get(url)\n",
    "\n",
    "    soup = BeautifulSoup(response.content, 'html.parser')\n",
    "    results = soup.find_all(\"img\")\n",
    "\n",
    "    playerList = driver.find_elements(By.CLASS_NAME, \"detail_list_player\")\n",
    "    data = driver.find_elements(By.CLASS_NAME, \"detail_list_prize\")\n",
    "    playerUserList = []\n",
    "    playerNameList = []\n",
    "    prizesList = []\n",
    "    countryList = []\n",
    "    for i in results:\n",
    "        countryList.append(i.get('title'))\n",
    "        \n",
    "    i = 0\n",
    "    while i<(len(playerList)-1):\n",
    "        playerUserList.append(playerList[i].text)\n",
    "        playerNameList.append(playerList[i+1].text)\n",
    "        i+=2\n",
    "\n",
    "    j = 7\n",
    "    while j<(len(data)-20):\n",
    "        prizesList.append(data[j].text)\n",
    "        j+=3\n",
    "    \n",
    "    data_tuples = list(zip(playerUserList[0:], playerNameList[0:], countryList[0:], prizesList[0:])) # list of each players name and salary paired together\n",
    "    temp_df = pd.DataFrame(data_tuples, columns=['Username','Name', 'Country', 'Prize']) # creates dataframe of each tuple in list\n",
    "    temp_df['Year'] = urlYear # adds season beginning year to each dataframe\n",
    "    df = df.append(temp_df) # appends to master dataframe\n",
    "    # display(df)\n",
    "\n",
    "driver.close()\n",
    "display(df)\n",
    "df.to_csv(\"playerData.csv\")\n"
   ]
  },
  {
   "cell_type": "markdown",
   "metadata": {},
   "source": [
    "## Scrape Teams Data"
   ]
  },
  {
   "cell_type": "code",
   "execution_count": null,
   "metadata": {},
   "outputs": [],
   "source": [
    "driver = webdriver.Firefox()\n",
    "df = pd.DataFrame(columns=['Team', 'Prize', 'NumTournaments', 'Year'])\n",
    "for year in range(20):\n",
    "    urlYear = str(2002+year)\n",
    "    url = \"https://www.esportsearnings.com/history/\" + urlYear + \"/teams\"\n",
    "    \n",
    "    driver.get(url)\n",
    "\n",
    "    teams = driver.find_elements(By.CLASS_NAME, \"detail_list_player\")\n",
    "    data = driver.find_elements(By.CLASS_NAME, \"detail_list_prize\")\n",
    "    teamsList = []\n",
    "    prizesList = []\n",
    "    tournamentsList = []\n",
    "    for team in range(len(teams)):\n",
    "        teamsList.append(teams[team].text)\n",
    "    i = 7\n",
    "    while i<(len(data)-20):\n",
    "        prizesList.append(data[i].text)\n",
    "        tournamentsList.append(data[i+1].text)\n",
    "        i+=2\n",
    "    data_tuples = list(zip(teamsList[0:],prizesList[0:], tournamentsList[0:])) # list of each players name and salary paired together\n",
    "    temp_df = pd.DataFrame(data_tuples, columns=['Team','Prize', 'NumTournaments']) # creates dataframe of each tuple in list\n",
    "    temp_df['Year'] = urlYear # adds season beginning year to each dataframe\n",
    "    df = df.append(temp_df) # appends to master dataframe\n",
    "        # display(df)\n",
    "driver.close()\n",
    "display(df)\n",
    "df.to_csv(\"teamsData.csv\")\n"
   ]
  },
  {
   "cell_type": "markdown",
   "metadata": {},
   "source": [
    "## Scrape Countries Data"
   ]
  },
  {
   "cell_type": "code",
   "execution_count": null,
   "metadata": {},
   "outputs": [],
   "source": [
    "driver = webdriver.Firefox()\n",
    "df = pd.DataFrame(columns=['Country', 'Prize', 'NumPlayers', 'Year'])\n",
    "for year in range(20):\n",
    "    urlYear = str(2002+year)\n",
    "    url = \"https://www.esportsearnings.com/history/\" + urlYear + \"/countries\"\n",
    "    \n",
    "    driver.get(url)\n",
    "\n",
    "    countries = driver.find_elements(By.CLASS_NAME, \"detail_list_player\")\n",
    "    data = driver.find_elements(By.CLASS_NAME, \"detail_list_prize\")\n",
    "    countryList = []\n",
    "    prizesList = []\n",
    "    playersList = []\n",
    "    for country in range(len(countries)):\n",
    "        countryList.append(countries[country].text)\n",
    "    i = 7\n",
    "    while i<(len(data)-20):\n",
    "        prizesList.append(data[i].text)\n",
    "        playersList.append(data[i+1].text)\n",
    "        i+=2\n",
    "    data_tuples = list(zip(countryList[0:],prizesList[0:], playersList[0:])) # list of each players name and salary paired together\n",
    "    temp_df = pd.DataFrame(data_tuples, columns=['Country','Prize', 'NumPlayers']) # creates dataframe of each tuple in list\n",
    "    temp_df['Year'] = urlYear # adds season beginning year to each dataframe\n",
    "    df = df.append(temp_df) # appends to master dataframe\n",
    "        # display(df)\n",
    "driver.close()\n",
    "display(df)\n",
    "df.to_csv(\"countriesData.csv\")"
   ]
  }
 ],
 "metadata": {
  "interpreter": {
   "hash": "43ac2302dbdc091d64cae5c37f2bd3650672b0961ebe5b52ceebd004e80dd3a8"
  },
  "kernelspec": {
   "display_name": "Python 3.9.10 64-bit",
   "language": "python",
   "name": "python3"
  },
  "language_info": {
   "codemirror_mode": {
    "name": "ipython",
    "version": 3
   },
   "file_extension": ".py",
   "mimetype": "text/x-python",
   "name": "python",
   "nbconvert_exporter": "python",
   "pygments_lexer": "ipython3",
   "version": "3.9.10"
  },
  "orig_nbformat": 4
 },
 "nbformat": 4,
 "nbformat_minor": 2
}
